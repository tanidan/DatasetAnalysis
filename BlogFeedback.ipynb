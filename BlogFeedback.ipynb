{
 "cells": [
  {
   "cell_type": "code",
   "execution_count": 2,
   "metadata": {},
   "outputs": [],
   "source": [
    "import glob\n",
    "import pandas as pd\n",
    "import numpy as np\n",
    "import matplotlib as plt\n",
    "from sklearn.decomposition import PCA\n",
    "from sklearn.linear_model import LinearRegression,RidgeCV, LassoCV\n",
    "from sklearn.tree import DecisionTreeRegressor\n",
    "%matplotlib inline"
   ]
  },
  {
   "cell_type": "markdown",
   "metadata": {},
   "source": [
    "## Preparing the data"
   ]
  },
  {
   "cell_type": "code",
   "execution_count": 3,
   "metadata": {
    "scrolled": true
   },
   "outputs": [],
   "source": [
    "data_train = pd.read_csv(\"BlogFeedback/blogData_train.csv\", header=None)"
   ]
  },
  {
   "cell_type": "code",
   "execution_count": 4,
   "metadata": {
    "scrolled": false
   },
   "outputs": [
    {
     "data": {
      "text/html": [
       "<div>\n",
       "<style scoped>\n",
       "    .dataframe tbody tr th:only-of-type {\n",
       "        vertical-align: middle;\n",
       "    }\n",
       "\n",
       "    .dataframe tbody tr th {\n",
       "        vertical-align: top;\n",
       "    }\n",
       "\n",
       "    .dataframe thead th {\n",
       "        text-align: right;\n",
       "    }\n",
       "</style>\n",
       "<table border=\"1\" class=\"dataframe\">\n",
       "  <thead>\n",
       "    <tr style=\"text-align: right;\">\n",
       "      <th></th>\n",
       "      <th>0</th>\n",
       "      <th>1</th>\n",
       "      <th>2</th>\n",
       "      <th>3</th>\n",
       "      <th>4</th>\n",
       "      <th>5</th>\n",
       "      <th>6</th>\n",
       "      <th>7</th>\n",
       "      <th>8</th>\n",
       "      <th>9</th>\n",
       "      <th>...</th>\n",
       "      <th>271</th>\n",
       "      <th>272</th>\n",
       "      <th>273</th>\n",
       "      <th>274</th>\n",
       "      <th>275</th>\n",
       "      <th>276</th>\n",
       "      <th>277</th>\n",
       "      <th>278</th>\n",
       "      <th>279</th>\n",
       "      <th>280</th>\n",
       "    </tr>\n",
       "  </thead>\n",
       "  <tbody>\n",
       "    <tr>\n",
       "      <th>0</th>\n",
       "      <td>40.30467</td>\n",
       "      <td>53.845657</td>\n",
       "      <td>0.0</td>\n",
       "      <td>401.0</td>\n",
       "      <td>15.0</td>\n",
       "      <td>15.52416</td>\n",
       "      <td>32.44188</td>\n",
       "      <td>0.0</td>\n",
       "      <td>377.0</td>\n",
       "      <td>3.0</td>\n",
       "      <td>...</td>\n",
       "      <td>0.0</td>\n",
       "      <td>1.0</td>\n",
       "      <td>0.0</td>\n",
       "      <td>0.0</td>\n",
       "      <td>0.0</td>\n",
       "      <td>0.0</td>\n",
       "      <td>0.0</td>\n",
       "      <td>0.0</td>\n",
       "      <td>0.0</td>\n",
       "      <td>1.0</td>\n",
       "    </tr>\n",
       "    <tr>\n",
       "      <th>1</th>\n",
       "      <td>40.30467</td>\n",
       "      <td>53.845657</td>\n",
       "      <td>0.0</td>\n",
       "      <td>401.0</td>\n",
       "      <td>15.0</td>\n",
       "      <td>15.52416</td>\n",
       "      <td>32.44188</td>\n",
       "      <td>0.0</td>\n",
       "      <td>377.0</td>\n",
       "      <td>3.0</td>\n",
       "      <td>...</td>\n",
       "      <td>1.0</td>\n",
       "      <td>0.0</td>\n",
       "      <td>0.0</td>\n",
       "      <td>0.0</td>\n",
       "      <td>0.0</td>\n",
       "      <td>0.0</td>\n",
       "      <td>0.0</td>\n",
       "      <td>0.0</td>\n",
       "      <td>0.0</td>\n",
       "      <td>0.0</td>\n",
       "    </tr>\n",
       "    <tr>\n",
       "      <th>2</th>\n",
       "      <td>40.30467</td>\n",
       "      <td>53.845657</td>\n",
       "      <td>0.0</td>\n",
       "      <td>401.0</td>\n",
       "      <td>15.0</td>\n",
       "      <td>15.52416</td>\n",
       "      <td>32.44188</td>\n",
       "      <td>0.0</td>\n",
       "      <td>377.0</td>\n",
       "      <td>3.0</td>\n",
       "      <td>...</td>\n",
       "      <td>1.0</td>\n",
       "      <td>0.0</td>\n",
       "      <td>0.0</td>\n",
       "      <td>0.0</td>\n",
       "      <td>0.0</td>\n",
       "      <td>0.0</td>\n",
       "      <td>0.0</td>\n",
       "      <td>0.0</td>\n",
       "      <td>0.0</td>\n",
       "      <td>0.0</td>\n",
       "    </tr>\n",
       "    <tr>\n",
       "      <th>3</th>\n",
       "      <td>40.30467</td>\n",
       "      <td>53.845657</td>\n",
       "      <td>0.0</td>\n",
       "      <td>401.0</td>\n",
       "      <td>15.0</td>\n",
       "      <td>15.52416</td>\n",
       "      <td>32.44188</td>\n",
       "      <td>0.0</td>\n",
       "      <td>377.0</td>\n",
       "      <td>3.0</td>\n",
       "      <td>...</td>\n",
       "      <td>0.0</td>\n",
       "      <td>1.0</td>\n",
       "      <td>0.0</td>\n",
       "      <td>0.0</td>\n",
       "      <td>0.0</td>\n",
       "      <td>0.0</td>\n",
       "      <td>0.0</td>\n",
       "      <td>0.0</td>\n",
       "      <td>0.0</td>\n",
       "      <td>1.0</td>\n",
       "    </tr>\n",
       "    <tr>\n",
       "      <th>4</th>\n",
       "      <td>40.30467</td>\n",
       "      <td>53.845657</td>\n",
       "      <td>0.0</td>\n",
       "      <td>401.0</td>\n",
       "      <td>15.0</td>\n",
       "      <td>15.52416</td>\n",
       "      <td>32.44188</td>\n",
       "      <td>0.0</td>\n",
       "      <td>377.0</td>\n",
       "      <td>3.0</td>\n",
       "      <td>...</td>\n",
       "      <td>0.0</td>\n",
       "      <td>1.0</td>\n",
       "      <td>0.0</td>\n",
       "      <td>0.0</td>\n",
       "      <td>0.0</td>\n",
       "      <td>0.0</td>\n",
       "      <td>0.0</td>\n",
       "      <td>0.0</td>\n",
       "      <td>0.0</td>\n",
       "      <td>27.0</td>\n",
       "    </tr>\n",
       "  </tbody>\n",
       "</table>\n",
       "<p>5 rows × 281 columns</p>\n",
       "</div>"
      ],
      "text/plain": [
       "        0          1    2      3     4         5         6    7      8    9    \\\n",
       "0  40.30467  53.845657  0.0  401.0  15.0  15.52416  32.44188  0.0  377.0  3.0   \n",
       "1  40.30467  53.845657  0.0  401.0  15.0  15.52416  32.44188  0.0  377.0  3.0   \n",
       "2  40.30467  53.845657  0.0  401.0  15.0  15.52416  32.44188  0.0  377.0  3.0   \n",
       "3  40.30467  53.845657  0.0  401.0  15.0  15.52416  32.44188  0.0  377.0  3.0   \n",
       "4  40.30467  53.845657  0.0  401.0  15.0  15.52416  32.44188  0.0  377.0  3.0   \n",
       "\n",
       "   ...   271  272  273  274  275  276  277  278  279   280  \n",
       "0  ...   0.0  1.0  0.0  0.0  0.0  0.0  0.0  0.0  0.0   1.0  \n",
       "1  ...   1.0  0.0  0.0  0.0  0.0  0.0  0.0  0.0  0.0   0.0  \n",
       "2  ...   1.0  0.0  0.0  0.0  0.0  0.0  0.0  0.0  0.0   0.0  \n",
       "3  ...   0.0  1.0  0.0  0.0  0.0  0.0  0.0  0.0  0.0   1.0  \n",
       "4  ...   0.0  1.0  0.0  0.0  0.0  0.0  0.0  0.0  0.0  27.0  \n",
       "\n",
       "[5 rows x 281 columns]"
      ]
     },
     "execution_count": 4,
     "metadata": {},
     "output_type": "execute_result"
    }
   ],
   "source": [
    "data_train.head()"
   ]
  },
  {
   "cell_type": "code",
   "execution_count": 5,
   "metadata": {
    "scrolled": false
   },
   "outputs": [
    {
     "data": {
      "text/html": [
       "<div>\n",
       "<style scoped>\n",
       "    .dataframe tbody tr th:only-of-type {\n",
       "        vertical-align: middle;\n",
       "    }\n",
       "\n",
       "    .dataframe tbody tr th {\n",
       "        vertical-align: top;\n",
       "    }\n",
       "\n",
       "    .dataframe thead th {\n",
       "        text-align: right;\n",
       "    }\n",
       "</style>\n",
       "<table border=\"1\" class=\"dataframe\">\n",
       "  <thead>\n",
       "    <tr style=\"text-align: right;\">\n",
       "      <th></th>\n",
       "      <th>0</th>\n",
       "      <th>1</th>\n",
       "      <th>2</th>\n",
       "      <th>3</th>\n",
       "      <th>4</th>\n",
       "      <th>5</th>\n",
       "      <th>6</th>\n",
       "      <th>7</th>\n",
       "      <th>8</th>\n",
       "      <th>9</th>\n",
       "      <th>...</th>\n",
       "      <th>271</th>\n",
       "      <th>272</th>\n",
       "      <th>273</th>\n",
       "      <th>274</th>\n",
       "      <th>275</th>\n",
       "      <th>276</th>\n",
       "      <th>277</th>\n",
       "      <th>278</th>\n",
       "      <th>279</th>\n",
       "      <th>280</th>\n",
       "    </tr>\n",
       "  </thead>\n",
       "  <tbody>\n",
       "    <tr>\n",
       "      <th>count</th>\n",
       "      <td>52397.000000</td>\n",
       "      <td>52397.000000</td>\n",
       "      <td>52397.000000</td>\n",
       "      <td>52397.000000</td>\n",
       "      <td>52397.000000</td>\n",
       "      <td>52397.000000</td>\n",
       "      <td>52397.000000</td>\n",
       "      <td>52397.000000</td>\n",
       "      <td>52397.000000</td>\n",
       "      <td>52397.000000</td>\n",
       "      <td>...</td>\n",
       "      <td>52397.000000</td>\n",
       "      <td>52397.000000</td>\n",
       "      <td>52397.000000</td>\n",
       "      <td>52397.000000</td>\n",
       "      <td>52397.000000</td>\n",
       "      <td>52397.000000</td>\n",
       "      <td>52397.0</td>\n",
       "      <td>52397.000000</td>\n",
       "      <td>52397.000000</td>\n",
       "      <td>52397.000000</td>\n",
       "    </tr>\n",
       "    <tr>\n",
       "      <th>mean</th>\n",
       "      <td>39.444167</td>\n",
       "      <td>46.806717</td>\n",
       "      <td>0.358914</td>\n",
       "      <td>339.853102</td>\n",
       "      <td>24.681661</td>\n",
       "      <td>15.214611</td>\n",
       "      <td>27.959159</td>\n",
       "      <td>0.002748</td>\n",
       "      <td>258.666030</td>\n",
       "      <td>5.829151</td>\n",
       "      <td>...</td>\n",
       "      <td>0.171327</td>\n",
       "      <td>0.162242</td>\n",
       "      <td>0.154455</td>\n",
       "      <td>0.096151</td>\n",
       "      <td>0.088917</td>\n",
       "      <td>0.119167</td>\n",
       "      <td>0.0</td>\n",
       "      <td>1.242094</td>\n",
       "      <td>0.769505</td>\n",
       "      <td>6.764719</td>\n",
       "    </tr>\n",
       "    <tr>\n",
       "      <th>std</th>\n",
       "      <td>79.121821</td>\n",
       "      <td>62.359996</td>\n",
       "      <td>6.840717</td>\n",
       "      <td>441.430109</td>\n",
       "      <td>69.598976</td>\n",
       "      <td>32.251189</td>\n",
       "      <td>38.584013</td>\n",
       "      <td>0.131903</td>\n",
       "      <td>321.348052</td>\n",
       "      <td>23.768317</td>\n",
       "      <td>...</td>\n",
       "      <td>0.376798</td>\n",
       "      <td>0.368676</td>\n",
       "      <td>0.361388</td>\n",
       "      <td>0.294800</td>\n",
       "      <td>0.284627</td>\n",
       "      <td>1.438194</td>\n",
       "      <td>0.0</td>\n",
       "      <td>27.497979</td>\n",
       "      <td>20.338052</td>\n",
       "      <td>37.706565</td>\n",
       "    </tr>\n",
       "    <tr>\n",
       "      <th>min</th>\n",
       "      <td>0.000000</td>\n",
       "      <td>0.000000</td>\n",
       "      <td>0.000000</td>\n",
       "      <td>0.000000</td>\n",
       "      <td>0.000000</td>\n",
       "      <td>0.000000</td>\n",
       "      <td>0.000000</td>\n",
       "      <td>0.000000</td>\n",
       "      <td>0.000000</td>\n",
       "      <td>0.000000</td>\n",
       "      <td>...</td>\n",
       "      <td>0.000000</td>\n",
       "      <td>0.000000</td>\n",
       "      <td>0.000000</td>\n",
       "      <td>0.000000</td>\n",
       "      <td>0.000000</td>\n",
       "      <td>0.000000</td>\n",
       "      <td>0.0</td>\n",
       "      <td>0.000000</td>\n",
       "      <td>0.000000</td>\n",
       "      <td>0.000000</td>\n",
       "    </tr>\n",
       "    <tr>\n",
       "      <th>25%</th>\n",
       "      <td>2.285714</td>\n",
       "      <td>5.214318</td>\n",
       "      <td>0.000000</td>\n",
       "      <td>29.000000</td>\n",
       "      <td>0.000000</td>\n",
       "      <td>0.891566</td>\n",
       "      <td>3.075076</td>\n",
       "      <td>0.000000</td>\n",
       "      <td>22.000000</td>\n",
       "      <td>0.000000</td>\n",
       "      <td>...</td>\n",
       "      <td>0.000000</td>\n",
       "      <td>0.000000</td>\n",
       "      <td>0.000000</td>\n",
       "      <td>0.000000</td>\n",
       "      <td>0.000000</td>\n",
       "      <td>0.000000</td>\n",
       "      <td>0.0</td>\n",
       "      <td>0.000000</td>\n",
       "      <td>0.000000</td>\n",
       "      <td>0.000000</td>\n",
       "    </tr>\n",
       "    <tr>\n",
       "      <th>50%</th>\n",
       "      <td>10.630660</td>\n",
       "      <td>19.353120</td>\n",
       "      <td>0.000000</td>\n",
       "      <td>162.000000</td>\n",
       "      <td>4.000000</td>\n",
       "      <td>4.150685</td>\n",
       "      <td>11.051215</td>\n",
       "      <td>0.000000</td>\n",
       "      <td>121.000000</td>\n",
       "      <td>1.000000</td>\n",
       "      <td>...</td>\n",
       "      <td>0.000000</td>\n",
       "      <td>0.000000</td>\n",
       "      <td>0.000000</td>\n",
       "      <td>0.000000</td>\n",
       "      <td>0.000000</td>\n",
       "      <td>0.000000</td>\n",
       "      <td>0.0</td>\n",
       "      <td>0.000000</td>\n",
       "      <td>0.000000</td>\n",
       "      <td>0.000000</td>\n",
       "    </tr>\n",
       "    <tr>\n",
       "      <th>75%</th>\n",
       "      <td>40.304670</td>\n",
       "      <td>77.442830</td>\n",
       "      <td>0.000000</td>\n",
       "      <td>478.000000</td>\n",
       "      <td>15.000000</td>\n",
       "      <td>15.998589</td>\n",
       "      <td>45.701206</td>\n",
       "      <td>0.000000</td>\n",
       "      <td>387.000000</td>\n",
       "      <td>2.000000</td>\n",
       "      <td>...</td>\n",
       "      <td>0.000000</td>\n",
       "      <td>0.000000</td>\n",
       "      <td>0.000000</td>\n",
       "      <td>0.000000</td>\n",
       "      <td>0.000000</td>\n",
       "      <td>0.000000</td>\n",
       "      <td>0.0</td>\n",
       "      <td>0.000000</td>\n",
       "      <td>0.000000</td>\n",
       "      <td>1.000000</td>\n",
       "    </tr>\n",
       "    <tr>\n",
       "      <th>max</th>\n",
       "      <td>1122.666600</td>\n",
       "      <td>559.432600</td>\n",
       "      <td>726.000000</td>\n",
       "      <td>2044.000000</td>\n",
       "      <td>1314.000000</td>\n",
       "      <td>442.666660</td>\n",
       "      <td>359.530060</td>\n",
       "      <td>14.000000</td>\n",
       "      <td>1424.000000</td>\n",
       "      <td>588.000000</td>\n",
       "      <td>...</td>\n",
       "      <td>1.000000</td>\n",
       "      <td>1.000000</td>\n",
       "      <td>1.000000</td>\n",
       "      <td>1.000000</td>\n",
       "      <td>1.000000</td>\n",
       "      <td>136.000000</td>\n",
       "      <td>0.0</td>\n",
       "      <td>1778.000000</td>\n",
       "      <td>1778.000000</td>\n",
       "      <td>1424.000000</td>\n",
       "    </tr>\n",
       "  </tbody>\n",
       "</table>\n",
       "<p>8 rows × 281 columns</p>\n",
       "</div>"
      ],
      "text/plain": [
       "                0             1             2             3             4    \\\n",
       "count  52397.000000  52397.000000  52397.000000  52397.000000  52397.000000   \n",
       "mean      39.444167     46.806717      0.358914    339.853102     24.681661   \n",
       "std       79.121821     62.359996      6.840717    441.430109     69.598976   \n",
       "min        0.000000      0.000000      0.000000      0.000000      0.000000   \n",
       "25%        2.285714      5.214318      0.000000     29.000000      0.000000   \n",
       "50%       10.630660     19.353120      0.000000    162.000000      4.000000   \n",
       "75%       40.304670     77.442830      0.000000    478.000000     15.000000   \n",
       "max     1122.666600    559.432600    726.000000   2044.000000   1314.000000   \n",
       "\n",
       "                5             6             7             8             9    \\\n",
       "count  52397.000000  52397.000000  52397.000000  52397.000000  52397.000000   \n",
       "mean      15.214611     27.959159      0.002748    258.666030      5.829151   \n",
       "std       32.251189     38.584013      0.131903    321.348052     23.768317   \n",
       "min        0.000000      0.000000      0.000000      0.000000      0.000000   \n",
       "25%        0.891566      3.075076      0.000000     22.000000      0.000000   \n",
       "50%        4.150685     11.051215      0.000000    121.000000      1.000000   \n",
       "75%       15.998589     45.701206      0.000000    387.000000      2.000000   \n",
       "max      442.666660    359.530060     14.000000   1424.000000    588.000000   \n",
       "\n",
       "           ...                271           272           273           274  \\\n",
       "count      ...       52397.000000  52397.000000  52397.000000  52397.000000   \n",
       "mean       ...           0.171327      0.162242      0.154455      0.096151   \n",
       "std        ...           0.376798      0.368676      0.361388      0.294800   \n",
       "min        ...           0.000000      0.000000      0.000000      0.000000   \n",
       "25%        ...           0.000000      0.000000      0.000000      0.000000   \n",
       "50%        ...           0.000000      0.000000      0.000000      0.000000   \n",
       "75%        ...           0.000000      0.000000      0.000000      0.000000   \n",
       "max        ...           1.000000      1.000000      1.000000      1.000000   \n",
       "\n",
       "                275           276      277           278           279  \\\n",
       "count  52397.000000  52397.000000  52397.0  52397.000000  52397.000000   \n",
       "mean       0.088917      0.119167      0.0      1.242094      0.769505   \n",
       "std        0.284627      1.438194      0.0     27.497979     20.338052   \n",
       "min        0.000000      0.000000      0.0      0.000000      0.000000   \n",
       "25%        0.000000      0.000000      0.0      0.000000      0.000000   \n",
       "50%        0.000000      0.000000      0.0      0.000000      0.000000   \n",
       "75%        0.000000      0.000000      0.0      0.000000      0.000000   \n",
       "max        1.000000    136.000000      0.0   1778.000000   1778.000000   \n",
       "\n",
       "                280  \n",
       "count  52397.000000  \n",
       "mean       6.764719  \n",
       "std       37.706565  \n",
       "min        0.000000  \n",
       "25%        0.000000  \n",
       "50%        0.000000  \n",
       "75%        1.000000  \n",
       "max     1424.000000  \n",
       "\n",
       "[8 rows x 281 columns]"
      ]
     },
     "execution_count": 5,
     "metadata": {},
     "output_type": "execute_result"
    }
   ],
   "source": [
    "data_train.describe()"
   ]
  },
  {
   "cell_type": "markdown",
   "metadata": {},
   "source": [
    "### Finding missing values "
   ]
  },
  {
   "cell_type": "code",
   "execution_count": 6,
   "metadata": {
    "scrolled": false
   },
   "outputs": [
    {
     "name": "stdout",
     "output_type": "stream",
     "text": [
      "Number of NA:  0\n"
     ]
    }
   ],
   "source": [
    "print(\"Number of NA: \",data_train.isnull().any().sum())\n"
   ]
  },
  {
   "cell_type": "markdown",
   "metadata": {},
   "source": [
    "##### Cleaning of the data is not needed "
   ]
  },
  {
   "cell_type": "markdown",
   "metadata": {},
   "source": [
    "Combining all test files into one"
   ]
  },
  {
   "cell_type": "code",
   "execution_count": 7,
   "metadata": {},
   "outputs": [],
   "source": [
    "testCSVfiles = glob.glob(\"BlogFeedback/test\"+ \"/*.csv\")\n",
    "data_test = pd.DataFrame()\n",
    "for file in testCSVfiles:\n",
    "    data_test = data_test.append(pd.read_csv(file, header=None))"
   ]
  },
  {
   "cell_type": "code",
   "execution_count": 8,
   "metadata": {},
   "outputs": [],
   "source": [
    "data_test.to_csv(\"BlogFeedback/test.csv\")"
   ]
  },
  {
   "cell_type": "markdown",
   "metadata": {},
   "source": [
    "## Exploratory data analysis"
   ]
  },
  {
   "cell_type": "code",
   "execution_count": 9,
   "metadata": {},
   "outputs": [
    {
     "name": "stdout",
     "output_type": "stream",
     "text": [
      "Number of individuals: 52397\n",
      "Number of features: 281\n"
     ]
    }
   ],
   "source": [
    "row,col = data_train.shape\n",
    "print(\"Number of individuals:\", row)\n",
    "print(\"Number of features:\", col)"
   ]
  },
  {
   "cell_type": "markdown",
   "metadata": {},
   "source": [
    "#### Representation of correlation matrix"
   ]
  },
  {
   "cell_type": "code",
   "execution_count": 10,
   "metadata": {},
   "outputs": [
    {
     "data": {
      "text/plain": [
       "<Figure size 7200x7200 with 0 Axes>"
      ]
     },
     "metadata": {},
     "output_type": "display_data"
    },
    {
     "data": {
      "image/png": "[encoded data removed]",
      "text/plain": [
       "<Figure size 288x288 with 2 Axes>"
      ]
     },
     "metadata": {
      "needs_background": "light"
     },
     "output_type": "display_data"
    }
   ],
   "source": [
    "plt.pyplot.figure(figsize=(100,100))\n",
    "plt.pyplot.matshow(data_train.corr(),cmap='RdPu')\n",
    "plt.pyplot.colorbar()\n",
    "plt.pyplot.show()"
   ]
  },
  {
   "cell_type": "markdown",
   "metadata": {},
   "source": [
    "From the plot we can see that the most correlated features are in the range of 0...62"
   ]
  },
  {
   "cell_type": "code",
   "execution_count": 11,
   "metadata": {},
   "outputs": [
    {
     "data": {
      "text/plain": [
       "<Figure size 7200x7200 with 0 Axes>"
      ]
     },
     "metadata": {},
     "output_type": "display_data"
    },
    {
     "data": {
      "image/png": "[encoded data removed]",
      "text/plain": [
       "<Figure size 288x288 with 2 Axes>"
      ]
     },
     "metadata": {
      "needs_background": "light"
     },
     "output_type": "display_data"
    }
   ],
   "source": [
    "part_data = data_train.iloc[:,0:62]\n",
    "plt.pyplot.figure(figsize=(100,100))\n",
    "plt.pyplot.matshow(part_data.corr(),cmap='RdPu')\n",
    "plt.pyplot.colorbar()\n",
    "plt.pyplot.show()"
   ]
  },
  {
   "cell_type": "markdown",
   "metadata": {},
   "source": [
    "### Figuring out the most correlated attributes with dependent variable"
   ]
  },
  {
   "cell_type": "code",
   "execution_count": 12,
   "metadata": {},
   "outputs": [
    {
     "data": {
      "text/plain": [
       "280    1.000000\n",
       "9      0.506540\n",
       "20     0.503375\n",
       "5      0.497631\n",
       "4      0.491707\n",
       "Name: 280, dtype: float64"
      ]
     },
     "execution_count": 12,
     "metadata": {},
     "output_type": "execute_result"
    }
   ],
   "source": [
    "maxvalues = data_train.corr()[280].nlargest(5)\n",
    "maxvalues"
   ]
  },
  {
   "cell_type": "markdown",
   "metadata": {},
   "source": [
    "<b>This variables are the most correlated with our target-the number of comments in the next 24h</b>\n",
    "\n",
    "4 - median of the total number of coments before basetime<br>\n",
    "5 - average of number of comments in the last 24h before the basetime<br>\n",
    "9 - median of number of comments in the last 24h before the basetime<br>\n",
    "20 - average of the difference between number of comments during 24h<br>"
   ]
  },
  {
   "cell_type": "code",
   "execution_count": 13,
   "metadata": {},
   "outputs": [
    {
     "data": {
      "text/plain": [
       "<StemContainer object of 3 artists>"
      ]
     },
     "execution_count": 13,
     "metadata": {},
     "output_type": "execute_result"
    },
    {
     "data": {
      "image/png": "[encoded data removed]",
      "text/plain": [
       "<Figure size 432x288 with 1 Axes>"
      ]
     },
     "metadata": {
      "needs_background": "light"
     },
     "output_type": "display_data"
    }
   ],
   "source": [
    "words_data=data_train.iloc[:,62:261];\n",
    "words=words_data.sum(axis=0)\n",
    "plt.pyplot.stem(words)"
   ]
  },
  {
   "cell_type": "markdown",
   "metadata": {},
   "source": [
    "## Principal Component Analysis"
   ]
  },
  {
   "cell_type": "code",
   "execution_count": 12,
   "metadata": {},
   "outputs": [
    {
     "name": "stdout",
     "output_type": "stream",
     "text": [
      "Optimal number of components:  2\n",
      "[0.94877217 0.04743174]\n"
     ]
    }
   ],
   "source": [
    "pca = PCA(.95)\n",
    "pca_data = pca.fit_transform(data_train)\n",
    "print(\"Optimal number of components: \",pca.n_components_)\n",
    "percent=pca.explained_variance_ratio_\n",
    "print(percent)"
   ]
  },
  {
   "cell_type": "markdown",
   "metadata": {},
   "source": [
    "We found the optimal number of components for representing 95 percent of the data"
   ]
  },
  {
   "cell_type": "code",
   "execution_count": 13,
   "metadata": {},
   "outputs": [
    {
     "data": {
      "text/plain": [
       "Text(0.5, 1.0, '2 Component PCA')"
      ]
     },
     "execution_count": 13,
     "metadata": {},
     "output_type": "execute_result"
    },
    {
     "data": {
      "image/png": "[encoded data removed]",
      "text/plain": [
       "<Figure size 720x720 with 1 Axes>"
      ]
     },
     "metadata": {
      "needs_background": "light"
     },
     "output_type": "display_data"
    }
   ],
   "source": [
    "plt.pyplot.figure(figsize=(10,10))\n",
    "x=pca_data[:,0]\n",
    "y=pca_data[:,1]\n",
    "percent1=np.around(percent[0]*100,decimals=2)\n",
    "percent2=np.around(percent[1]*100,decimals=2)\n",
    "plt.pyplot.scatter(x, y, color='palevioletred')\n",
    "plt.pyplot.xlabel(\"Principal Component 1 ({}%)\".format(percent1))\n",
    "plt.pyplot.ylabel(\"Principal Component 2 ({}%)\".format(percent2))\n",
    "plt.pyplot.title(\"2 Component PCA\")"
   ]
  },
  {
   "cell_type": "markdown",
   "metadata": {},
   "source": [
    "But looking at explained variance ratio we notice that by the first variable we can explain almost 95% of the variance."
   ]
  },
  {
   "cell_type": "code",
   "execution_count": 14,
   "metadata": {},
   "outputs": [
    {
     "data": {
      "text/plain": [
       "Text(0.5, 1.0, '1 Component PCA')"
      ]
     },
     "execution_count": 14,
     "metadata": {},
     "output_type": "execute_result"
    },
    {
     "data": {
      "image/png": "[encoded data removed]",
      "text/plain": [
       "<Figure size 720x720 with 1 Axes>"
      ]
     },
     "metadata": {
      "needs_background": "light"
     },
     "output_type": "display_data"
    }
   ],
   "source": [
    "plt.pyplot.figure(figsize=(10,10))\n",
    "x=pca_data[:,0]\n",
    "percent1=np.around(percent[0]*100,decimals=2)\n",
    "plt.pyplot.plot(x, color='palevioletred')\n",
    "plt.pyplot.xlabel(\"Principal Component 1 ({}%)\".format(percent1))\n",
    "plt.pyplot.title(\"1 Component PCA\")"
   ]
  },
  {
   "cell_type": "markdown",
   "metadata": {},
   "source": [
    "## Feature selection"
   ]
  },
  {
   "cell_type": "code",
   "execution_count": 15,
   "metadata": {},
   "outputs": [],
   "source": [
    "xtrain = data_train.iloc[:,0:280]\n",
    "ytrain = data_train.iloc[:,280]"
   ]
  },
  {
   "cell_type": "code",
   "execution_count": 16,
   "metadata": {},
   "outputs": [],
   "source": [
    "a_list = 10**np.linspace(-1,5, 7)\n",
    "ratio = np.linspace(0,1, 20)\n",
    "mean_squared_err = lambda y, yhat: np.mean((y-yhat)**2)"
   ]
  },
  {
   "cell_type": "markdown",
   "metadata": {},
   "source": [
    "In our investigation we use 3 models: ridge, lasso and regression trees."
   ]
  },
  {
   "cell_type": "markdown",
   "metadata": {},
   "source": [
    "### Ridge"
   ]
  },
  {
   "cell_type": "code",
   "execution_count": 17,
   "metadata": {},
   "outputs": [],
   "source": [
    "ridge = RidgeCV(alphas=a_list)\n",
    "ridge_fit=ridge.fit(xtrain, ytrain)"
   ]
  },
  {
   "cell_type": "code",
   "execution_count": 18,
   "metadata": {},
   "outputs": [
    {
     "name": "stdout",
     "output_type": "stream",
     "text": [
      "The best alpha value is 100000.0\n",
      "Features selected 276\n",
      "The R^2 is  0.3591958466545243\n",
      "The MSE of the best model is 911.0683523767748\n"
     ]
    }
   ],
   "source": [
    "print(\"The best alpha value is\", ridge.alpha_)\n",
    "print(\"Features selected\", ridge.coef_.nonzero()[0].size)\n",
    "print(\"The R^2 is \", ridge.score(xtrain,ytrain))\n",
    "print(\"The MSE is\", mean_squared_err(ytrain, ridge.predict(xtrain)))"
   ]
  },
  {
   "cell_type": "markdown",
   "metadata": {},
   "source": [
    "### Lasso"
   ]
  },
  {
   "cell_type": "code",
   "execution_count": 19,
   "metadata": {},
   "outputs": [
    {
     "name": "stderr",
     "output_type": "stream",
     "text": [
      "C:\\Users\\user\\Anaconda3\\lib\\site-packages\\sklearn\\model_selection\\_split.py:2053: FutureWarning: You should specify a value for 'cv' instead of relying on the default value. The default value will change from 3 to 5 in version 0.22.\n",
      "  warnings.warn(CV_WARNING, FutureWarning)\n",
      "C:\\Users\\user\\Anaconda3\\lib\\site-packages\\sklearn\\linear_model\\coordinate_descent.py:492: ConvergenceWarning: Objective did not converge. You might want to increase the number of iterations. Fitting data with very small alpha may cause precision problems.\n",
      "  ConvergenceWarning)\n",
      "C:\\Users\\user\\Anaconda3\\lib\\site-packages\\sklearn\\linear_model\\coordinate_descent.py:492: ConvergenceWarning: Objective did not converge. You might want to increase the number of iterations. Fitting data with very small alpha may cause precision problems.\n",
      "  ConvergenceWarning)\n",
      "C:\\Users\\user\\Anaconda3\\lib\\site-packages\\sklearn\\linear_model\\coordinate_descent.py:492: ConvergenceWarning: Objective did not converge. You might want to increase the number of iterations. Fitting data with very small alpha may cause precision problems.\n",
      "  ConvergenceWarning)\n",
      "C:\\Users\\user\\Anaconda3\\lib\\site-packages\\sklearn\\linear_model\\coordinate_descent.py:492: ConvergenceWarning: Objective did not converge. You might want to increase the number of iterations. Fitting data with very small alpha may cause precision problems.\n",
      "  ConvergenceWarning)\n",
      "C:\\Users\\user\\Anaconda3\\lib\\site-packages\\sklearn\\linear_model\\coordinate_descent.py:492: ConvergenceWarning: Objective did not converge. You might want to increase the number of iterations. Fitting data with very small alpha may cause precision problems.\n",
      "  ConvergenceWarning)\n",
      "C:\\Users\\user\\Anaconda3\\lib\\site-packages\\sklearn\\linear_model\\coordinate_descent.py:492: ConvergenceWarning: Objective did not converge. You might want to increase the number of iterations. Fitting data with very small alpha may cause precision problems.\n",
      "  ConvergenceWarning)\n",
      "C:\\Users\\user\\Anaconda3\\lib\\site-packages\\sklearn\\linear_model\\coordinate_descent.py:492: ConvergenceWarning: Objective did not converge. You might want to increase the number of iterations. Fitting data with very small alpha may cause precision problems.\n",
      "  ConvergenceWarning)\n",
      "C:\\Users\\user\\Anaconda3\\lib\\site-packages\\sklearn\\linear_model\\coordinate_descent.py:492: ConvergenceWarning: Objective did not converge. You might want to increase the number of iterations. Fitting data with very small alpha may cause precision problems.\n",
      "  ConvergenceWarning)\n"
     ]
    },
    {
     "data": {
      "text/plain": [
       "LassoCV(alphas=array([1.e-01, 1.e+00, 1.e+01, 1.e+02, 1.e+03, 1.e+04, 1.e+05]),\n",
       "    copy_X=True, cv='warn', eps=0.001, fit_intercept=True, max_iter=1000,\n",
       "    n_alphas=100, n_jobs=None, normalize=False, positive=False,\n",
       "    precompute='auto', random_state=None, selection='cyclic', tol=0.0001,\n",
       "    verbose=False)"
      ]
     },
     "execution_count": 19,
     "metadata": {},
     "output_type": "execute_result"
    }
   ],
   "source": [
    "lasso = LassoCV(alphas=a_list)\n",
    "lasso.fit(xtrain, ytrain)"
   ]
  },
  {
   "cell_type": "code",
   "execution_count": 20,
   "metadata": {
    "scrolled": true
   },
   "outputs": [
    {
     "name": "stdout",
     "output_type": "stream",
     "text": [
      "The best alpha value is 0.1\n",
      "Features selected 42\n",
      "The R^2 is  0.35950920726591096\n",
      "The MSE of the best model is 910.6228294593367\n"
     ]
    }
   ],
   "source": [
    "print(\"The best alpha value is\", lasso.alpha_)\n",
    "print(\"Features selected\", lasso.coef_.nonzero()[0].size)\n",
    "print(\"The R^2 is \", lasso.score(xtrain,ytrain))\n",
    "print(\"The MSE is\", mean_squared_err(ytrain, lasso.predict(xtrain)))"
   ]
  },
  {
   "cell_type": "markdown",
   "metadata": {},
   "source": [
    "## Regression trees"
   ]
  },
  {
   "cell_type": "code",
   "execution_count": 21,
   "metadata": {},
   "outputs": [],
   "source": [
    "regressor = DecisionTreeRegressor()"
   ]
  },
  {
   "cell_type": "code",
   "execution_count": 22,
   "metadata": {},
   "outputs": [
    {
     "data": {
      "text/plain": [
       "DecisionTreeRegressor(criterion='mse', max_depth=None, max_features=None,\n",
       "           max_leaf_nodes=None, min_impurity_decrease=0.0,\n",
       "           min_impurity_split=None, min_samples_leaf=1,\n",
       "           min_samples_split=2, min_weight_fraction_leaf=0.0,\n",
       "           presort=False, random_state=None, splitter='best')"
      ]
     },
     "execution_count": 22,
     "metadata": {},
     "output_type": "execute_result"
    }
   ],
   "source": [
    "regressor.fit(xtrain, ytrain)"
   ]
  },
  {
   "cell_type": "code",
   "execution_count": 24,
   "metadata": {},
   "outputs": [
    {
     "name": "stdout",
     "output_type": "stream",
     "text": [
      "The R^2 is  0.9859704904314256\n",
      "The MSE is 19.94656573395242\n"
     ]
    }
   ],
   "source": [
    "print(\"The R^2 is \", regressor.score(xtrain,ytrain))\n",
    "print(\"The MSE is\", mean_squared_err(ytrain, regressor.predict(xtrain)))"
   ]
  },
  {
   "cell_type": "markdown",
   "metadata": {},
   "source": [
    "### Summary Table"
   ]
  },
  {
   "cell_type": "markdown",
   "metadata": {},
   "source": [
    "| method | Feature selected | R-squared | MSE|\n",
    "| ---| --- | --- |---| \n",
    "| Ridge |  276 | 0.3591|911.06|\n",
    "| Lasso | 42 | 0.3595| 910.62|\n",
    "| Regression trees | 280 | 0.9859| 19.946|"
   ]
  },
  {
   "cell_type": "markdown",
   "metadata": {},
   "source": [
    "As we can see, for the linear models(ridge and lasso) we get a simmilar values of \"MSE\" and \"R-squared\" what means they equally fit well, but Ridge method requires more features than Lasso. Talking about regression tree, the result is very good, so there exists a risk that this model is overfitted. Let's check on test dataset."
   ]
  },
  {
   "cell_type": "markdown",
   "metadata": {},
   "source": [
    "## Testing on test dataset"
   ]
  },
  {
   "cell_type": "code",
   "execution_count": 30,
   "metadata": {},
   "outputs": [],
   "source": [
    "xtest = data_test.iloc[:,0:280]\n",
    "ytest = data_test.iloc[:,280]"
   ]
  },
  {
   "cell_type": "markdown",
   "metadata": {},
   "source": [
    "### Ridge"
   ]
  },
  {
   "cell_type": "code",
   "execution_count": 31,
   "metadata": {},
   "outputs": [
    {
     "name": "stdout",
     "output_type": "stream",
     "text": [
      "The R^2 is  0.31320948668283966\n",
      "The MSE of the best model is 638.8822531823035\n"
     ]
    }
   ],
   "source": [
    "print(\"The R^2 is \", ridge.score(xtest,ytest))\n",
    "print(\"The MSE is\", mean_squared_err(ytest, ridge.predict(xtest)))"
   ]
  },
  {
   "cell_type": "markdown",
   "metadata": {},
   "source": [
    "### Lasso"
   ]
  },
  {
   "cell_type": "code",
   "execution_count": 32,
   "metadata": {},
   "outputs": [
    {
     "name": "stdout",
     "output_type": "stream",
     "text": [
      "The R^2 is  0.3145205841155523\n",
      "The MSE of the best model is 637.6626136186875\n"
     ]
    }
   ],
   "source": [
    "print(\"The R^2 is \", lasso.score(xtest,ytest))\n",
    "print(\"The MSE is\", mean_squared_err(ytest, lasso.predict(xtest)))"
   ]
  },
  {
   "cell_type": "markdown",
   "metadata": {},
   "source": [
    "### Regression trees"
   ]
  },
  {
   "cell_type": "code",
   "execution_count": 33,
   "metadata": {},
   "outputs": [
    {
     "name": "stdout",
     "output_type": "stream",
     "text": [
      "The R^2 is  -0.19877966565152594\n",
      "The MSE of the best model is 1115.1567166550078\n"
     ]
    }
   ],
   "source": [
    "print(\"The R^2 is \", regressor.score(xtest,ytest))\n",
    "print(\"The MSE is\", mean_squared_err(ytest, regressor.predict(xtest)))"
   ]
  },
  {
   "cell_type": "markdown",
   "metadata": {},
   "source": [
    "### Summary Table based on test set"
   ]
  },
  {
   "cell_type": "markdown",
   "metadata": {},
   "source": [
    "| method | Feature selected | R-squared | MSE|\n",
    "| ---| --- | --- |---| \n",
    "| Lasso | 42 | 0.3145| 637.66|\n",
    "| Ridge | 276 | 0.3132| 638.88|\n",
    "| Regression trees | 280 | -0.19877| 1115.15|"
   ]
  },
  {
   "cell_type": "markdown",
   "metadata": {},
   "source": [
    "From results we can see that regression trees model performs very bad and we even get negative R^2 value, which means that our regression line is worse than using the mean value. So we can conclude that this model is overfitted.\n",
    "Also, there are traditional methods like cross-validation, stepwise regression to handle overfitting and perform feature selection work well with a small set of features but Ridge and Lasso techniques are a great alternative when we are dealing with a large set of features."
   ]
  },
  {
   "cell_type": "markdown",
   "metadata": {},
   "source": [
    "So these models suit better for our dataset. The key difference between these techniques is that Lasso shrinks the less important feature’s coefficient to zero thus, removing some feature altogether. So, this works well for feature selection in our case, because we have a huge number of features."
   ]
  }
 ],
 "metadata": {
  "kernelspec": {
   "display_name": "Python 3",
   "language": "python",
   "name": "python3"
  },
  "language_info": {
   "codemirror_mode": {
    "name": "ipython",
    "version": 3
   },
   "file_extension": ".py",
   "mimetype": "text/x-python",
   "name": "python",
   "nbconvert_exporter": "python",
   "pygments_lexer": "ipython3",
   "version": "3.7.1"
  }
 },
 "nbformat": 4,
 "nbformat_minor": 2
}
